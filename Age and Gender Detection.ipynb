{
 "cells": [
  {
   "cell_type": "code",
   "execution_count": 1,
   "id": "a849203b",
   "metadata": {},
   "outputs": [
    {
     "name": "stdout",
     "output_type": "stream",
     "text": [
      "WARNING:tensorflow:From C:\\Users\\MY\\anaconda3\\envs\\my_ml_env\\Lib\\site-packages\\keras\\src\\losses.py:2976: The name tf.losses.sparse_softmax_cross_entropy is deprecated. Please use tf.compat.v1.losses.sparse_softmax_cross_entropy instead.\n",
      "\n"
     ]
    }
   ],
   "source": [
    "import pandas as pd\n",
    "import math\n",
    "import numpy as np\n",
    "import os\n",
    "os.environ['TF_CPP_MIN_LOG_LEVEL'] = '3'\n",
    "\n",
    "import matplotlib.pyplot as plt\n",
    "import seaborn as sns\n",
    "sns.set()\n",
    "\n",
    "import tensorflow as tf\n",
    "import keras\n",
    "\n",
    "\n",
    "from tensorflow.keras.layers import Dense, LSTM\n",
    "from keras.models import Sequential\n",
    "from keras.layers import Conv2D, Dropout, BatchNormalization, Flatten, Dense, MaxPooling2D\n",
    "from keras.utils import to_categorical\n",
    "\n",
    "from keras.callbacks import EarlyStopping, ReduceLROnPlateau\n",
    "from keras.optimizers import Adam\n",
    "\n",
    "from sklearn.metrics import mean_absolute_error, confusion_matrix, classification_report\n",
    "from sklearn.model_selection import train_test_split"
   ]
  },
  {
   "cell_type": "markdown",
   "id": "14ad0dbe",
   "metadata": {},
   "source": [
    "# Read the data"
   ]
  },
  {
   "cell_type": "code",
   "execution_count": 2,
   "id": "95b7a971",
   "metadata": {},
   "outputs": [
    {
     "data": {
      "text/html": [
       "<div>\n",
       "<style scoped>\n",
       "    .dataframe tbody tr th:only-of-type {\n",
       "        vertical-align: middle;\n",
       "    }\n",
       "\n",
       "    .dataframe tbody tr th {\n",
       "        vertical-align: top;\n",
       "    }\n",
       "\n",
       "    .dataframe thead th {\n",
       "        text-align: right;\n",
       "    }\n",
       "</style>\n",
       "<table border=\"1\" class=\"dataframe\">\n",
       "  <thead>\n",
       "    <tr style=\"text-align: right;\">\n",
       "      <th></th>\n",
       "      <th>age</th>\n",
       "      <th>ethnicity</th>\n",
       "      <th>gender</th>\n",
       "      <th>img_name</th>\n",
       "      <th>pixels</th>\n",
       "    </tr>\n",
       "  </thead>\n",
       "  <tbody>\n",
       "    <tr>\n",
       "      <th>0</th>\n",
       "      <td>1</td>\n",
       "      <td>2</td>\n",
       "      <td>0</td>\n",
       "      <td>20161219203650636.jpg.chip.jpg</td>\n",
       "      <td>129 128 128 126 127 130 133 135 139 142 145 14...</td>\n",
       "    </tr>\n",
       "    <tr>\n",
       "      <th>1</th>\n",
       "      <td>1</td>\n",
       "      <td>2</td>\n",
       "      <td>0</td>\n",
       "      <td>20161219222752047.jpg.chip.jpg</td>\n",
       "      <td>164 74 111 168 169 171 175 182 184 188 193 199...</td>\n",
       "    </tr>\n",
       "    <tr>\n",
       "      <th>2</th>\n",
       "      <td>1</td>\n",
       "      <td>2</td>\n",
       "      <td>0</td>\n",
       "      <td>20161219222832191.jpg.chip.jpg</td>\n",
       "      <td>67 70 71 70 69 67 70 79 90 103 116 132 145 155...</td>\n",
       "    </tr>\n",
       "    <tr>\n",
       "      <th>3</th>\n",
       "      <td>1</td>\n",
       "      <td>2</td>\n",
       "      <td>0</td>\n",
       "      <td>20161220144911423.jpg.chip.jpg</td>\n",
       "      <td>193 197 198 200 199 200 202 203 204 205 208 21...</td>\n",
       "    </tr>\n",
       "    <tr>\n",
       "      <th>4</th>\n",
       "      <td>1</td>\n",
       "      <td>2</td>\n",
       "      <td>0</td>\n",
       "      <td>20161220144914327.jpg.chip.jpg</td>\n",
       "      <td>202 205 209 210 209 209 210 211 212 214 218 21...</td>\n",
       "    </tr>\n",
       "  </tbody>\n",
       "</table>\n",
       "</div>"
      ],
      "text/plain": [
       "   age  ethnicity  gender                        img_name  \\\n",
       "0    1          2       0  20161219203650636.jpg.chip.jpg   \n",
       "1    1          2       0  20161219222752047.jpg.chip.jpg   \n",
       "2    1          2       0  20161219222832191.jpg.chip.jpg   \n",
       "3    1          2       0  20161220144911423.jpg.chip.jpg   \n",
       "4    1          2       0  20161220144914327.jpg.chip.jpg   \n",
       "\n",
       "                                              pixels  \n",
       "0  129 128 128 126 127 130 133 135 139 142 145 14...  \n",
       "1  164 74 111 168 169 171 175 182 184 188 193 199...  \n",
       "2  67 70 71 70 69 67 70 79 90 103 116 132 145 155...  \n",
       "3  193 197 198 200 199 200 202 203 204 205 208 21...  \n",
       "4  202 205 209 210 209 209 210 211 212 214 218 21...  "
      ]
     },
     "execution_count": 2,
     "metadata": {},
     "output_type": "execute_result"
    }
   ],
   "source": [
    "df = pd.read_csv(r'C:\\Users\\MY\\Documents\\Python Scripts\\codeclause intern projects\\gender and age detection project\\age_gender.csv')\n",
    "df.head()"
   ]
  },
  {
   "cell_type": "code",
   "execution_count": 3,
   "id": "003dd1e8",
   "metadata": {},
   "outputs": [],
   "source": [
    "df['pixels'] = df['pixels'].map(lambda x: np.array(x.split(' '), dtype=np.float32).reshape(48, 48))"
   ]
  },
  {
   "cell_type": "markdown",
   "id": "0a188c2e",
   "metadata": {},
   "source": [
    "# Reshape the images"
   ]
  },
  {
   "cell_type": "code",
   "execution_count": 4,
   "id": "5d70f049",
   "metadata": {},
   "outputs": [],
   "source": [
    "X = np.array(df['pixels'].to_list())\n",
    "X_reshaped = X.reshape(X.shape[0], 48, 48, 1)\n",
    "\n",
    "# Normalise images\n",
    "\n",
    "if np.max(X_reshaped) > 1: X_reshaped = X_reshaped / 255\n",
    "\n",
    "# Set some useful variables\n",
    "\n",
    "input_shape = X_reshaped.shape[1:] \n",
    "\n",
    "# Set y\n",
    "\n",
    "y = df['age'].values"
   ]
  },
  {
   "cell_type": "markdown",
   "id": "2c1233d4",
   "metadata": {},
   "source": [
    "# Train_test_split"
   ]
  },
  {
   "cell_type": "code",
   "execution_count": 5,
   "id": "657da0d6",
   "metadata": {},
   "outputs": [],
   "source": [
    "X_train, X_test, y_train, y_test = train_test_split(X_reshaped, y, test_size=0.2, random_state=123)"
   ]
  },
  {
   "cell_type": "markdown",
   "id": "22418c7b",
   "metadata": {},
   "source": [
    "# Model"
   ]
  },
  {
   "cell_type": "code",
   "execution_count": 6,
   "id": "6cedd889",
   "metadata": {},
   "outputs": [
    {
     "name": "stdout",
     "output_type": "stream",
     "text": [
      "WARNING:tensorflow:From C:\\Users\\MY\\anaconda3\\envs\\my_ml_env\\Lib\\site-packages\\keras\\src\\backend.py:873: The name tf.get_default_graph is deprecated. Please use tf.compat.v1.get_default_graph instead.\n",
      "\n",
      "WARNING:tensorflow:From C:\\Users\\MY\\anaconda3\\envs\\my_ml_env\\Lib\\site-packages\\keras\\src\\layers\\pooling\\max_pooling2d.py:161: The name tf.nn.max_pool is deprecated. Please use tf.nn.max_pool2d instead.\n",
      "\n",
      "WARNING:tensorflow:From C:\\Users\\MY\\anaconda3\\envs\\my_ml_env\\Lib\\site-packages\\keras\\src\\optimizers\\__init__.py:309: The name tf.train.Optimizer is deprecated. Please use tf.compat.v1.train.Optimizer instead.\n",
      "\n",
      "Model: \"sequential\"\n",
      "_________________________________________________________________\n",
      " Layer (type)                Output Shape              Param #   \n",
      "=================================================================\n",
      " conv2d (Conv2D)             (None, 46, 46, 32)        320       \n",
      "                                                                 \n",
      " max_pooling2d (MaxPooling2  (None, 23, 23, 32)        0         \n",
      " D)                                                              \n",
      "                                                                 \n",
      " conv2d_1 (Conv2D)           (None, 21, 21, 64)        18496     \n",
      "                                                                 \n",
      " max_pooling2d_1 (MaxPoolin  (None, 10, 10, 64)        0         \n",
      " g2D)                                                            \n",
      "                                                                 \n",
      " conv2d_2 (Conv2D)           (None, 8, 8, 128)         73856     \n",
      "                                                                 \n",
      " max_pooling2d_2 (MaxPoolin  (None, 4, 4, 128)         0         \n",
      " g2D)                                                            \n",
      "                                                                 \n",
      " flatten (Flatten)           (None, 2048)              0         \n",
      "                                                                 \n",
      " dense (Dense)               (None, 128)               262272    \n",
      "                                                                 \n",
      " dropout (Dropout)           (None, 128)               0         \n",
      "                                                                 \n",
      " dense_1 (Dense)             (None, 1)                 129       \n",
      "                                                                 \n",
      "=================================================================\n",
      "Total params: 355073 (1.35 MB)\n",
      "Trainable params: 355073 (1.35 MB)\n",
      "Non-trainable params: 0 (0.00 Byte)\n",
      "_________________________________________________________________\n"
     ]
    }
   ],
   "source": [
    "age_model = Sequential()\n",
    "\n",
    "age_model.add(Conv2D(32, kernel_size=(3,3), input_shape=input_shape, activation='relu'))\n",
    "age_model.add(MaxPooling2D(pool_size=(2,2)))\n",
    "\n",
    "age_model.add(Conv2D(64, kernel_size=(3,3), activation='relu'))\n",
    "age_model.add(MaxPooling2D(pool_size=(2,2)))\n",
    "\n",
    "age_model.add(Conv2D(128, kernel_size=(3,3), activation='relu'))\n",
    "age_model.add(MaxPooling2D(pool_size=(2,2)))\n",
    "\n",
    "age_model.add(Flatten())\n",
    "age_model.add(Dense(128, activation='relu'))\n",
    "age_model.add(Dropout(0.5))\n",
    "age_model.add(Dense(1, activation='linear'))\n",
    "\n",
    "age_model.compile(optimizer='adam', loss='mean_absolute_error')\n",
    "\n",
    "age_model.summary()"
   ]
  },
  {
   "cell_type": "code",
   "execution_count": 7,
   "id": "116d074c",
   "metadata": {},
   "outputs": [],
   "source": [
    "# Callbacks for age model\n",
    "\n",
    "callbacks = [EarlyStopping(patience=10,min_delta=0.001,restore_best_weights=True),ReduceLROnPlateau(patience = 2,\n",
    "                               verbose=1,factor=0.5, min_lr = 0.0001)]"
   ]
  },
  {
   "cell_type": "code",
   "execution_count": 8,
   "id": "86a1c485",
   "metadata": {
    "scrolled": true
   },
   "outputs": [
    {
     "name": "stdout",
     "output_type": "stream",
     "text": [
      "Epoch 1/20\n",
      "WARNING:tensorflow:From C:\\Users\\MY\\anaconda3\\envs\\my_ml_env\\Lib\\site-packages\\keras\\src\\utils\\tf_utils.py:492: The name tf.ragged.RaggedTensorValue is deprecated. Please use tf.compat.v1.ragged.RaggedTensorValue instead.\n",
      "\n",
      "297/297 [==============================] - 102s 301ms/step - loss: 16.0027 - val_loss: 14.1239 - lr: 0.0010\n",
      "Epoch 2/20\n",
      "297/297 [==============================] - 87s 291ms/step - loss: 13.2920 - val_loss: 12.9400 - lr: 0.0010\n",
      "Epoch 3/20\n",
      "297/297 [==============================] - 88s 297ms/step - loss: 11.8865 - val_loss: 11.2757 - lr: 0.0010\n",
      "Epoch 4/20\n",
      "297/297 [==============================] - 88s 295ms/step - loss: 11.1893 - val_loss: 11.3173 - lr: 0.0010\n",
      "Epoch 5/20\n",
      "297/297 [==============================] - 87s 293ms/step - loss: 10.7723 - val_loss: 9.7939 - lr: 0.0010\n",
      "Epoch 6/20\n",
      "297/297 [==============================] - 131s 440ms/step - loss: 10.3089 - val_loss: 9.4975 - lr: 0.0010\n",
      "Epoch 7/20\n",
      "297/297 [==============================] - 89s 300ms/step - loss: 9.8640 - val_loss: 8.9994 - lr: 0.0010\n",
      "Epoch 8/20\n",
      "297/297 [==============================] - 88s 294ms/step - loss: 9.5207 - val_loss: 8.4541 - lr: 0.0010\n",
      "Epoch 9/20\n",
      "297/297 [==============================] - 88s 297ms/step - loss: 9.2372 - val_loss: 8.2633 - lr: 0.0010\n",
      "Epoch 10/20\n",
      "297/297 [==============================] - 89s 298ms/step - loss: 8.9117 - val_loss: 7.9216 - lr: 0.0010\n",
      "Epoch 11/20\n",
      "297/297 [==============================] - 88s 295ms/step - loss: 8.5996 - val_loss: 7.8239 - lr: 0.0010\n",
      "Epoch 12/20\n",
      "297/297 [==============================] - 88s 296ms/step - loss: 8.4792 - val_loss: 8.7505 - lr: 0.0010\n",
      "Epoch 13/20\n",
      "297/297 [==============================] - 88s 296ms/step - loss: 8.3011 - val_loss: 7.5421 - lr: 0.0010\n",
      "Epoch 14/20\n",
      "297/297 [==============================] - 88s 296ms/step - loss: 8.2695 - val_loss: 8.3811 - lr: 0.0010\n",
      "Epoch 15/20\n",
      "297/297 [==============================] - 88s 295ms/step - loss: 8.0510 - val_loss: 7.3470 - lr: 0.0010\n",
      "Epoch 16/20\n",
      "297/297 [==============================] - 88s 297ms/step - loss: 7.8325 - val_loss: 7.3031 - lr: 0.0010\n",
      "Epoch 17/20\n",
      "297/297 [==============================] - 87s 294ms/step - loss: 7.9005 - val_loss: 7.2389 - lr: 0.0010\n",
      "Epoch 18/20\n",
      "297/297 [==============================] - 88s 298ms/step - loss: 7.5807 - val_loss: 7.4332 - lr: 0.0010\n",
      "Epoch 19/20\n",
      "297/297 [==============================] - ETA: 0s - loss: 7.4690\n",
      "Epoch 19: ReduceLROnPlateau reducing learning rate to 0.0005000000237487257.\n",
      "297/297 [==============================] - 99s 333ms/step - loss: 7.4690 - val_loss: 7.5589 - lr: 0.0010\n",
      "Epoch 20/20\n",
      "297/297 [==============================] - 96s 324ms/step - loss: 7.2480 - val_loss: 7.0429 - lr: 5.0000e-04\n"
     ]
    }
   ],
   "source": [
    "history = age_model.fit(X_train, y_train, epochs=20,batch_size=64,callbacks=callbacks,validation_data=(X_test, y_test))"
   ]
  },
  {
   "cell_type": "code",
   "execution_count": 9,
   "id": "1a4066a8",
   "metadata": {},
   "outputs": [
    {
     "data": {
      "image/png": "[encoded data removed]",
      "text/plain": [
       "<Figure size 640x480 with 1 Axes>"
      ]
     },
     "metadata": {},
     "output_type": "display_data"
    }
   ],
   "source": [
    "pd.DataFrame(history.history).plot();"
   ]
  },
  {
   "cell_type": "code",
   "execution_count": 10,
   "id": "c4c4601e",
   "metadata": {},
   "outputs": [
    {
     "name": "stdout",
     "output_type": "stream",
     "text": [
      "149/149 [==============================] - 9s 63ms/step - loss: 7.0429\n"
     ]
    }
   ],
   "source": [
    "valid_score = age_model.evaluate(X_test, y_test, verbose=1)"
   ]
  },
  {
   "cell_type": "markdown",
   "id": "be8371f7",
   "metadata": {},
   "source": [
    "# Predictions"
   ]
  },
  {
   "cell_type": "code",
   "execution_count": 11,
   "id": "c50afa81",
   "metadata": {},
   "outputs": [
    {
     "name": "stdout",
     "output_type": "stream",
     "text": [
      "149/149 [==============================] - 8s 54ms/step\n"
     ]
    }
   ],
   "source": [
    "y_pred = age_model.predict(X_test)"
   ]
  },
  {
   "cell_type": "code",
   "execution_count": 12,
   "id": "2ec17c1f",
   "metadata": {},
   "outputs": [
    {
     "name": "stdout",
     "output_type": "stream",
     "text": [
      "MAE: 7.042922554979644\n"
     ]
    }
   ],
   "source": [
    "# Man absolute error\n",
    "print(\"MAE: {}\".format(mean_absolute_error(y_test, y_pred)))"
   ]
  },
  {
   "cell_type": "code",
   "execution_count": 13,
   "id": "6aef3714",
   "metadata": {},
   "outputs": [
    {
     "name": "stdout",
     "output_type": "stream",
     "text": [
      "R2 score: 0.758\n"
     ]
    }
   ],
   "source": [
    "from sklearn.metrics import r2_score\n",
    "\n",
    "# calculate R2 score\n",
    "r2 = r2_score(y_test, y_pred)\n",
    "\n",
    "print(\"R2 score: {:.3f}\".format(r2))"
   ]
  },
  {
   "cell_type": "markdown",
   "id": "46000347",
   "metadata": {},
   "source": [
    "# Face Prediction"
   ]
  },
  {
   "cell_type": "code",
   "execution_count": 14,
   "id": "ef4f887b",
   "metadata": {},
   "outputs": [],
   "source": [
    "import matplotlib.pyplot as plt\n",
    "\n",
    "def face_prediction(image):\n",
    "    \n",
    "    x = image.reshape(1, 48, 48, 1)\n",
    "    x = x / 255\n",
    "    \n",
    "    age_predict = int(age_model.predict(x))\n",
    "    \n",
    "    plt.imshow(image)\n",
    "    plt.title(\"Predicted Age: %d\" % age_predict)\n",
    "    plt.axis('off')"
   ]
  },
  {
   "cell_type": "code",
   "execution_count": 15,
   "id": "19030a60",
   "metadata": {},
   "outputs": [
    {
     "data": {
      "text/plain": [
       "(-0.5, 47.5, 47.5, -0.5)"
      ]
     },
     "execution_count": 15,
     "metadata": {},
     "output_type": "execute_result"
    },
    {
     "data": {
      "image/png": "[encoded data removed]",
      "text/plain": [
       "<Figure size 640x480 with 1 Axes>"
      ]
     },
     "metadata": {},
     "output_type": "display_data"
    }
   ],
   "source": [
    "\n",
    "random_face = np.random.choice(len(df))\n",
    "\n",
    "age = df['age'][random_face]\n",
    "\n",
    "plt.imshow(df['pixels'][random_face])\n",
    "plt.title('Age: {0}'.format(age))\n",
    "plt.axis('off')"
   ]
  },
  {
   "cell_type": "code",
   "execution_count": 16,
   "id": "e45aae13",
   "metadata": {},
   "outputs": [
    {
     "name": "stdout",
     "output_type": "stream",
     "text": [
      "1/1 [==============================] - 0s 78ms/step\n"
     ]
    },
    {
     "name": "stderr",
     "output_type": "stream",
     "text": [
      "C:\\Users\\MY\\AppData\\Local\\Temp\\ipykernel_620\\4038275351.py:8: DeprecationWarning: Conversion of an array with ndim > 0 to a scalar is deprecated, and will error in future. Ensure you extract a single element from your array before performing this operation. (Deprecated NumPy 1.25.)\n",
      "  age_predict = int(age_model.predict(x))\n"
     ]
    },
    {
     "data": {
      "image/png": "[encoded data removed]",
      "text/plain": [
       "<Figure size 640x480 with 1 Axes>"
      ]
     },
     "metadata": {},
     "output_type": "display_data"
    }
   ],
   "source": [
    "# Model prediction \n",
    "\n",
    "face_prediction(df['pixels'][random_face])"
   ]
  },
  {
   "cell_type": "code",
   "execution_count": null,
   "id": "4f23efe7",
   "metadata": {},
   "outputs": [],
   "source": []
  }
 ],
 "metadata": {
  "kernelspec": {
   "display_name": "Python 3 (ipykernel)",
   "language": "python",
   "name": "python3"
  },
  "language_info": {
   "codemirror_mode": {
    "name": "ipython",
    "version": 3
   },
   "file_extension": ".py",
   "mimetype": "text/x-python",
   "name": "python",
   "nbconvert_exporter": "python",
   "pygments_lexer": "ipython3",
   "version": "3.11.5"
  }
 },
 "nbformat": 4,
 "nbformat_minor": 5
}
